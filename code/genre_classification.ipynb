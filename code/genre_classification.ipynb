{
  "cells": [
    {
      "cell_type": "code",
      "execution_count": null,
      "metadata": {
        "id": "ZRWlwqVQcM9q"
      },
      "outputs": [],
      "source": [
        "import numpy as np\n",
        "import tensorflow as tf"
      ]
    },
    {
      "cell_type": "code",
      "execution_count": null,
      "metadata": {
        "id": "aQKegOlEcM9r"
      },
      "outputs": [],
      "source": [
        "import re\n",
        "import string"
      ]
    },
    {
      "cell_type": "code",
      "execution_count": null,
      "metadata": {
        "id": "j_UxuEKlcM9t"
      },
      "outputs": [],
      "source": [
        "sequence_length=600\n",
        "pad_symbol = \"*\""
      ]
    },
    {
      "cell_type": "code",
      "execution_count": null,
      "metadata": {
        "colab": {
          "base_uri": "https://localhost:8080/"
        },
        "id": "9Clgz9pCcM9u",
        "outputId": "4bf94dd1-24ff-4803-ba67-07fa841e19cd"
      },
      "outputs": [
        {
          "name": "stdout",
          "output_type": "stream",
          "text": [
            "['Biography & Memoir', 'Arts & Entertainment Biographies & Memoirs', 'Political Figure Biographies & Memoirs', 'Historical Figure Biographies & Memoirs']\n"
          ]
        }
      ],
      "source": [
        "# Create a list of all genre tags\n",
        "allGenres = []\n",
        "with open(\"../data/hierarchy.txt\") as hierarchyFile:\n",
        "    for line in hierarchyFile:\n",
        "        tab = line.find(\"\\t\")\n",
        "        g1 = line[:tab]\n",
        "        g2 = line[tab+1:len(line)-1]\n",
        "        if allGenres.count(g1) == 0:\n",
        "            allGenres.append(g1)\n",
        "        if allGenres.count(g2) == 0:\n",
        "            allGenres.append(g2)\n",
        "\n",
        "print(allGenres[:4])"
      ]
    },
    {
      "cell_type": "code",
      "execution_count": null,
      "metadata": {
        "colab": {
          "base_uri": "https://localhost:8080/"
        },
        "id": "fhWib4nXcM9z",
        "outputId": "dba85075-f5e3-4f4c-e62c-badf5262a3e1"
      },
      "outputs": [
        {
          "data": {
            "text/plain": [
              "152"
            ]
          },
          "execution_count": 6,
          "metadata": {},
          "output_type": "execute_result"
        }
      ],
      "source": [
        "len(allGenres)"
      ]
    },
    {
      "cell_type": "code",
      "execution_count": null,
      "metadata": {
        "id": "0ObBJ1jrq9-B"
      },
      "outputs": [],
      "source": [
        "import pandas as pd\n",
        "from pandas import DataFrame"
      ]
    },
    {
      "cell_type": "code",
      "execution_count": null,
      "metadata": {
        "id": "mUe-G1l5cM9t"
      },
      "outputs": [],
      "source": [
        "def clean(fname, sample_size):\n",
        "\n",
        "    # Separate file into books with all metadata\n",
        "    startBook = \"<book\"\n",
        "    books = []\n",
        "    with open(fname) as openFile:\n",
        "        for line in openFile:\n",
        "            if line[:len(startBook)] == startBook:\n",
        "                books.append(line)\n",
        "            else:\n",
        "                books[-1] += line\n",
        "    openFile.close()\n",
        "\n",
        "    books = np.array(books)[:sample_size]\n",
        "\n",
        "    # Collect synopses and all genre tags for each book\n",
        "    # X_data found here (synopses)\n",
        "    synopses = []\n",
        "    genres = []\n",
        "\n",
        "    startBody = \"<body>\"\n",
        "    endBody = \"</body>\"\n",
        "\n",
        "    startTopic = \"<topics>\"\n",
        "    endTopic = \"</topics>\"\n",
        "\n",
        "    for book in books:\n",
        "        start = book.index(startBody) + len(startBody)\n",
        "        end = book.index(endBody)\n",
        "\n",
        "        blurb = book[start:end].lower()\n",
        "        blurb = re.sub(r'[^\\w\\s]', '', blurb)\n",
        "\n",
        "        # standardize length\n",
        "        if len(blurb) > sequence_length:\n",
        "            blurb = blurb[:sequence_length]\n",
        "        else:\n",
        "            blurb = blurb + pad_symbol*(sequence_length-len(blurb))\n",
        "            \n",
        "        synopses.append(blurb)\n",
        "\n",
        "        start = book.index(startTopic) + len(startTopic)\n",
        "        end = book.index(endTopic)\n",
        "        genres.append(book[start:end])\n",
        "\n",
        "    X_data = np.array(synopses)\n",
        "\n",
        "    # Create matrix of genre tags to book\n",
        "    # Y_data found here\n",
        "    start = \">\"\n",
        "    end = \"</\"\n",
        "\n",
        "    Y_data = np.zeros((len(books), len(allGenres)))\n",
        "\n",
        "    for i in range(len(books)):\n",
        "        entry = genres[i]\n",
        "        while entry.find(end) != -1:\n",
        "            s = entry.index(start) + 1\n",
        "            e = entry.index(end)\n",
        "            genreTag = entry[s:e]\n",
        "            Y_data[i][allGenres.index(genreTag)] = 1\n",
        "            entry = entry[e+5:]\n",
        "\n",
        "    return (X_data, Y_data)"
      ]
    },
    {
      "cell_type": "code",
      "execution_count": null,
      "metadata": {
        "colab": {
          "base_uri": "https://localhost:8080/"
        },
        "id": "UGItMis1cM9v",
        "outputId": "4eeba1cd-1bac-411b-d616-4437e1f95a4f"
      },
      "outputs": [
        {
          "name": "stdout",
          "output_type": "stream",
          "text": [
            "mondays crosswords do with easetuesdays crosswords not a breezewednesdays crosswords harder stillthursdays crosswords take real skillfridays crosswords  youve come this farsaturdays crosswords  youre a starfor millions of people the new york times crossword puzzles are as essential to each day as the first cup of coffee in the morning now for the first time ever these premier puzzles are available in six clever installments with each day of the week the puzzles increase gradually in skill level mondays the easiest but saturdays sure to challenge push your mental muscles a little harder each da\n",
            "[0. 0. 0. 0. 0. 1. 0. 0. 0. 0. 0. 0. 0. 0. 0. 0. 0. 0. 0. 0. 0. 0. 0. 0.\n",
            " 0. 0. 0. 0. 1. 0. 0. 0. 0. 0. 0. 0. 0. 0. 0. 0. 0. 0. 0. 0. 0. 0. 0. 0.\n",
            " 0. 0. 0. 0. 0. 0. 0. 0. 0. 0. 0. 0. 0. 0. 0. 0. 0. 0. 0. 0. 0. 0. 0. 0.\n",
            " 0. 0. 0. 0. 0. 0. 0. 0. 0. 0. 0. 0. 0. 0. 0. 0. 0. 0. 0. 0. 0. 0. 0. 0.\n",
            " 0. 0. 0. 0. 0. 0. 0. 0. 0. 0. 0. 0. 0. 0. 0. 0. 0. 0. 0. 0. 0. 0. 0. 0.\n",
            " 0. 0. 0. 0. 0. 0. 0. 0. 0. 0. 0. 0. 0. 0. 0. 0. 0. 0. 0. 0. 0. 0. 0. 0.\n",
            " 0. 0. 0. 0. 0. 0. 0. 0.]\n"
          ]
        }
      ],
      "source": [
        "blurb_train, genres_train = clean(\"../data/BlurbGenreCollection_EN_train.txt\", 20000) # using fewer samples due to space limitations\n",
        "blurb_test, genres_test = clean(\"../data/BlurbGenreCollection_EN_test.txt\", 5000)\n",
        "blurb_valid, genres_valid = clean(\"../data/BlurbGenreCollection_EN_dev.txt\", 3000)\n",
        "\n",
        "print(blurb_train[0])\n",
        "print(genres_train[0])"
      ]
    },
    {
      "cell_type": "code",
      "execution_count": null,
      "metadata": {
        "colab": {
          "base_uri": "https://localhost:8080/"
        },
        "id": "hrXEXDqE189T",
        "outputId": "983817ef-922d-4e66-d3fc-c96be4cada5f"
      },
      "outputs": [
        {
          "data": {
            "text/plain": [
              "(20000, 152)"
            ]
          },
          "execution_count": 10,
          "metadata": {},
          "output_type": "execute_result"
        }
      ],
      "source": [
        "genres_train.shape"
      ]
    },
    {
      "cell_type": "code",
      "execution_count": null,
      "metadata": {
        "id": "FFmeg8ajrbiG"
      },
      "outputs": [],
      "source": [
        "df = DataFrame(genres_train)\n",
        "genreFreq = df.sum(axis=0)"
      ]
    },
    {
      "cell_type": "code",
      "execution_count": null,
      "metadata": {
        "colab": {
          "base_uri": "https://localhost:8080/"
        },
        "id": "9Rq-PmgKrxHr",
        "outputId": "92302951-c892-4a37-a565-0454d2e4ff2c"
      },
      "outputs": [
        {
          "data": {
            "text/plain": [
              "0      1296.0\n",
              "1       298.0\n",
              "2        69.0\n",
              "3        79.0\n",
              "4       128.0\n",
              "        ...  \n",
              "147     179.0\n",
              "148      67.0\n",
              "149       1.0\n",
              "150     308.0\n",
              "151     259.0\n",
              "Length: 152, dtype: float64"
            ]
          },
          "execution_count": 12,
          "metadata": {},
          "output_type": "execute_result"
        }
      ],
      "source": [
        "genreFreq"
      ]
    },
    {
      "cell_type": "code",
      "execution_count": null,
      "metadata": {
        "id": "giiQZJa2Eetx"
      },
      "outputs": [],
      "source": [
        "import matplotlib.pyplot as plt\n",
        "from matplotlib.pyplot import figure"
      ]
    },
    {
      "cell_type": "code",
      "execution_count": null,
      "metadata": {
        "colab": {
          "base_uri": "https://localhost:8080/",
          "height": 366
        },
        "id": "wWwZA38KE3Bf",
        "outputId": "206f9f0f-c372-4091-e53c-00d167355875"
      },
      "outputs": [
        {
          "data": {
            "text/plain": [
              "<BarContainer object of 152 artists>"
            ]
          },
          "execution_count": 14,
          "metadata": {},
          "output_type": "execute_result"
        },
        {
          "data": {
            "image/png": "[encoded data removed]",
            "text/plain": [
              "<Figure size 1600x480 with 1 Axes>"
            ]
          },
          "metadata": {
            "needs_background": "light"
          },
          "output_type": "display_data"
        }
      ],
      "source": [
        "figure(figsize=(20, 6), dpi=80)\n",
        "\n",
        "plt.bar(allGenres, genreFreq)"
      ]
    },
    {
      "cell_type": "code",
      "execution_count": null,
      "metadata": {
        "colab": {
          "base_uri": "https://localhost:8080/"
        },
        "id": "wjrWP82hGP5q",
        "outputId": "de6e557d-642e-4b77-fdd9-8eed93f64764"
      },
      "outputs": [
        {
          "name": "stdout",
          "output_type": "stream",
          "text": [
            "Nonfiction\n",
            "Fiction\n",
            "Children’s Books\n"
          ]
        }
      ],
      "source": [
        "for i in genreFreq[genreFreq >= 2000].index:\n",
        "  print(allGenres[i])"
      ]
    },
    {
      "cell_type": "code",
      "execution_count": null,
      "metadata": {
        "id": "NC-FVD8Qr0Xr"
      },
      "outputs": [],
      "source": [
        "genres = []\n",
        "genres_2_index = {}\n",
        "index_2_genres = {}\n",
        "for i in genreFreq[genreFreq >= 2000].index:\n",
        "  g = allGenres[i]\n",
        "  index_2_genres[i] = g\n",
        "  genres_2_index[g] = i\n",
        "  genres.append(g)"
      ]
    },
    {
      "cell_type": "code",
      "execution_count": null,
      "metadata": {
        "colab": {
          "base_uri": "https://localhost:8080/"
        },
        "id": "Aasw_FAuvpWS",
        "outputId": "2f80d8c8-898e-4186-b3de-cf4dd003a93a"
      },
      "outputs": [
        {
          "data": {
            "text/plain": [
              "['Nonfiction', 'Fiction', 'Children’s Books']"
            ]
          },
          "execution_count": 17,
          "metadata": {},
          "output_type": "execute_result"
        }
      ],
      "source": [
        "genres"
      ]
    },
    {
      "cell_type": "code",
      "execution_count": null,
      "metadata": {
        "colab": {
          "base_uri": "https://localhost:8080/"
        },
        "id": "s6NeZVJqyq3l",
        "outputId": "c795e8f9-d06d-4b86-803e-a3f0ea936a79"
      },
      "outputs": [
        {
          "data": {
            "text/plain": [
              "{'Children’s Books': 125, 'Fiction': 86, 'Nonfiction': 5}"
            ]
          },
          "execution_count": 18,
          "metadata": {},
          "output_type": "execute_result"
        }
      ],
      "source": [
        "genres_2_index"
      ]
    },
    {
      "cell_type": "code",
      "execution_count": null,
      "metadata": {
        "id": "g0iEuxBAxJhF"
      },
      "outputs": [],
      "source": [
        "def reduceGenres(books_y):\n",
        "  Y_data = np.zeros((len(books_y), len(genres)))\n",
        "  for i, book_y in enumerate(books_y):\n",
        "    for j, bin_label in enumerate(book_y):\n",
        "      if bin_label == 1:\n",
        "        genre = index_2_genres.get(j, False)\n",
        "        if genre:\n",
        "          Y_data[i,genres.index(genre)] = 1\n",
        "  return Y_data"
      ]
    },
    {
      "cell_type": "code",
      "execution_count": null,
      "metadata": {
        "colab": {
          "base_uri": "https://localhost:8080/"
        },
        "id": "yvzARZeK1RrT",
        "outputId": "b7b410f0-4083-42a2-a14e-8de20201b9d1"
      },
      "outputs": [
        {
          "data": {
            "text/plain": [
              "array([1., 0., 0.])"
            ]
          },
          "execution_count": 20,
          "metadata": {},
          "output_type": "execute_result"
        }
      ],
      "source": [
        "Y_train = reduceGenres(genres_train)\n",
        "Y_train[0]"
      ]
    },
    {
      "cell_type": "code",
      "execution_count": null,
      "metadata": {
        "id": "clGE373d2XGz"
      },
      "outputs": [],
      "source": [
        "Y_test = reduceGenres(genres_test)\n",
        "Y_valid = reduceGenres(genres_valid)"
      ]
    },
    {
      "cell_type": "code",
      "execution_count": null,
      "metadata": {
        "colab": {
          "base_uri": "https://localhost:8080/"
        },
        "id": "-lobE9aKcM9w",
        "outputId": "d929b08a-5086-42fb-a46c-37469125d938"
      },
      "outputs": [
        {
          "name": "stdout",
          "output_type": "stream",
          "text": [
            "['a', 'b', 'c', 'd', 'e', 'f', 'g', 'h', 'i', 'j', 'k', 'l', 'm', 'n', 'o', 'p', 'q', 'r', 's', 't', 'u', 'v', 'w', 'x', 'y', 'z', '0', '1', '2', '3', '4', '5', '6', '7', '8', '9', ' ']\n",
            "Number of characters: 37\n"
          ]
        }
      ],
      "source": [
        "chars = list(string.ascii_lowercase + string.digits + \" \")\n",
        "print(chars)\n",
        "print(\"Number of characters:\", len(chars))"
      ]
    },
    {
      "cell_type": "code",
      "execution_count": null,
      "metadata": {
        "id": "0MMr5Zh0cM9x"
      },
      "outputs": [],
      "source": [
        "char_2_index = dict((c,i) for i, c in enumerate(chars)) \n",
        "index_2_char = dict((i,c) for i, c in enumerate(chars))"
      ]
    },
    {
      "cell_type": "code",
      "execution_count": null,
      "metadata": {
        "id": "e71AkoeHcM9y"
      },
      "outputs": [],
      "source": [
        "def makeOneHot(blurbs):\n",
        "    X_data = np.zeros((len(blurbs), sequence_length, len(chars))) \n",
        "    for i, blurb in enumerate(blurbs):\n",
        "        for t, char in enumerate(blurb):\n",
        "            if char_2_index.get(char):\n",
        "                X_data[i,t,char_2_index[char]] = 1\n",
        "    return X_data"
      ]
    },
    {
      "cell_type": "code",
      "execution_count": null,
      "metadata": {
        "colab": {
          "base_uri": "https://localhost:8080/"
        },
        "id": "ql_mcz2ccM9y",
        "outputId": "9612ef20-0049-4107-b72a-a974cb7ff0e9"
      },
      "outputs": [
        {
          "data": {
            "text/plain": [
              "array([[0., 0., 0., ..., 0., 0., 0.],\n",
              "       [0., 0., 0., ..., 0., 0., 0.],\n",
              "       [0., 0., 0., ..., 0., 0., 0.],\n",
              "       ...,\n",
              "       [0., 0., 0., ..., 0., 0., 1.],\n",
              "       [0., 0., 0., ..., 0., 0., 0.],\n",
              "       [0., 0., 0., ..., 0., 0., 0.]])"
            ]
          },
          "execution_count": 25,
          "metadata": {},
          "output_type": "execute_result"
        }
      ],
      "source": [
        "X_train = makeOneHot(blurb_train)\n",
        "X_train[0]"
      ]
    },
    {
      "cell_type": "code",
      "execution_count": null,
      "metadata": {
        "id": "ttRVUEJwcM9z"
      },
      "outputs": [],
      "source": [
        "X_valid = makeOneHot(blurb_valid)\n",
        "X_test = makeOneHot(blurb_test)"
      ]
    },
    {
      "cell_type": "code",
      "execution_count": null,
      "metadata": {
        "id": "-dTaPRagcM9z"
      },
      "outputs": [],
      "source": [
        "from tensorflow.keras.models import Sequential\n",
        "from tensorflow.keras.layers import LSTM, Dense, Activation, Dropout\n",
        "from tensorflow.keras.callbacks import EarlyStopping, TensorBoard"
      ]
    },
    {
      "cell_type": "code",
      "execution_count": null,
      "metadata": {
        "id": "pzU2BHIBcM90"
      },
      "outputs": [],
      "source": [
        "# Modeling\n",
        "\n",
        "model = Sequential()\n",
        "model.add(LSTM(128, input_shape=(sequence_length,len(chars),)))\n",
        "model.add(Dense(len(genres), activation='softmax'))\n",
        "model.compile(loss='categorical_crossentropy', optimizer='adam', metrics=['accuracy'])"
      ]
    },
    {
      "cell_type": "code",
      "execution_count": null,
      "metadata": {
        "colab": {
          "base_uri": "https://localhost:8080/"
        },
        "id": "shYZiAd4ezR7",
        "outputId": "073a51ba-61cd-40a4-c710-62d10541d603"
      },
      "outputs": [
        {
          "name": "stdout",
          "output_type": "stream",
          "text": [
            "Model: \"sequential\"\n",
            "_________________________________________________________________\n",
            " Layer (type)                Output Shape              Param #   \n",
            "=================================================================\n",
            " lstm (LSTM)                 (None, 128)               84992     \n",
            "                                                                 \n",
            " dense (Dense)               (None, 3)                 387       \n",
            "                                                                 \n",
            "=================================================================\n",
            "Total params: 85,379\n",
            "Trainable params: 85,379\n",
            "Non-trainable params: 0\n",
            "_________________________________________________________________\n"
          ]
        }
      ],
      "source": [
        "model.summary()"
      ]
    },
    {
      "cell_type": "code",
      "execution_count": null,
      "metadata": {
        "colab": {
          "base_uri": "https://localhost:8080/"
        },
        "id": "NrguXv1FcM90",
        "outputId": "7512121c-d80f-4a80-c99f-848d2ba5b20c"
      },
      "outputs": [
        {
          "name": "stdout",
          "output_type": "stream",
          "text": [
            "Epoch 1/10000000\n",
            "157/157 [==============================] - 28s 143ms/step - loss: 0.9979 - accuracy: 0.4315 - val_loss: 1.0164 - val_accuracy: 0.4210\n",
            "Epoch 2/10000000\n",
            "157/157 [==============================] - 21s 135ms/step - loss: 1.0034 - accuracy: 0.4130 - val_loss: 0.9836 - val_accuracy: 0.4460\n",
            "Epoch 3/10000000\n",
            "157/157 [==============================] - 21s 135ms/step - loss: 0.9849 - accuracy: 0.4315 - val_loss: 1.0183 - val_accuracy: 0.3497\n",
            "Epoch 4/10000000\n",
            "157/157 [==============================] - 21s 136ms/step - loss: 1.0114 - accuracy: 0.4049 - val_loss: 1.0220 - val_accuracy: 0.3497\n",
            "Epoch 5/10000000\n",
            "157/157 [==============================] - 21s 136ms/step - loss: 1.0163 - accuracy: 0.4057 - val_loss: 1.0248 - val_accuracy: 0.4210\n",
            "Epoch 6/10000000\n",
            "157/157 [==============================] - 21s 134ms/step - loss: 1.0127 - accuracy: 0.4076 - val_loss: 1.0242 - val_accuracy: 0.4210\n",
            "Epoch 7/10000000\n",
            "157/157 [==============================] - 21s 134ms/step - loss: 1.0177 - accuracy: 0.4159 - val_loss: 1.0232 - val_accuracy: 0.4210\n",
            "Epoch 8/10000000\n",
            "157/157 [==============================] - 21s 133ms/step - loss: 1.0161 - accuracy: 0.4111 - val_loss: 1.0272 - val_accuracy: 0.4210\n",
            "Epoch 9/10000000\n",
            "157/157 [==============================] - 21s 134ms/step - loss: 1.0166 - accuracy: 0.4122 - val_loss: 1.0267 - val_accuracy: 0.4210\n",
            "Epoch 10/10000000\n",
            "157/157 [==============================] - 21s 134ms/step - loss: 1.0168 - accuracy: 0.4054 - val_loss: 1.0278 - val_accuracy: 0.4210\n",
            "Epoch 11/10000000\n",
            "157/157 [==============================] - 21s 135ms/step - loss: 1.0170 - accuracy: 0.4114 - val_loss: 1.0247 - val_accuracy: 0.4210\n",
            "Epoch 12/10000000\n",
            "157/157 [==============================] - ETA: 0s - loss: 1.0172 - accuracy: 0.4154Restoring model weights from the end of the best epoch: 2.\n",
            "157/157 [==============================] - 21s 134ms/step - loss: 1.0172 - accuracy: 0.4154 - val_loss: 1.0242 - val_accuracy: 0.3497\n",
            "Epoch 00012: early stopping\n"
          ]
        },
        {
          "data": {
            "text/plain": [
              "<keras.callbacks.History at 0x7f5760080890>"
            ]
          },
          "execution_count": 30,
          "metadata": {},
          "output_type": "execute_result"
        }
      ],
      "source": [
        "es = EarlyStopping(monitor='val_loss', \n",
        "                   patience=10, verbose=1,\n",
        "                   restore_best_weights=True)\n",
        "\n",
        "tb = TensorBoard(log_dir='logs', histogram_freq=1, write_graph=1)\n",
        "\n",
        "model.fit(X_train, Y_train, epochs=10000000,\n",
        "          callbacks=[es,tb],\n",
        "          batch_size=128, shuffle=True,  \n",
        "          validation_data=(X_valid, Y_valid))"
      ]
    },
    {
      "cell_type": "code",
      "execution_count": null,
      "metadata": {
        "colab": {
          "base_uri": "https://localhost:8080/"
        },
        "id": "jdjN9hvq4pI4",
        "outputId": "fe9a9414-3775-4f47-fb01-8cb929c3ae40"
      },
      "outputs": [
        {
          "name": "stdout",
          "output_type": "stream",
          "text": [
            "157/157 [==============================] - 7s 46ms/step - loss: 0.9847 - accuracy: 0.4302\n"
          ]
        },
        {
          "data": {
            "text/plain": [
              "[0.9847214818000793, 0.4302000105381012]"
            ]
          },
          "execution_count": 31,
          "metadata": {},
          "output_type": "execute_result"
        }
      ],
      "source": [
        "model.evaluate(X_test, Y_test)"
      ]
    },
    {
      "cell_type": "code",
      "execution_count": null,
      "metadata": {
        "id": "B6b3SRkj--Qa"
      },
      "outputs": [],
      "source": [
        "preds = model.predict(X_test)"
      ]
    },
    {
      "cell_type": "code",
      "execution_count": null,
      "metadata": {
        "id": "WP9LJL21_fb1"
      },
      "outputs": [],
      "source": [
        "preds_label = np.argmax(preds,axis=1)"
      ]
    },
    {
      "cell_type": "code",
      "execution_count": null,
      "metadata": {
        "colab": {
          "base_uri": "https://localhost:8080/"
        },
        "id": "688vl7rC__sh",
        "outputId": "c76b5092-0ead-432e-8f30-86fbd2fd3664"
      },
      "outputs": [
        {
          "data": {
            "text/plain": [
              "array([0.29789487, 0.36246523, 0.33963993], dtype=float32)"
            ]
          },
          "execution_count": 34,
          "metadata": {},
          "output_type": "execute_result"
        }
      ],
      "source": [
        "preds[0]"
      ]
    },
    {
      "cell_type": "code",
      "execution_count": null,
      "metadata": {
        "colab": {
          "base_uri": "https://localhost:8080/"
        },
        "id": "9Rfj8ifjAdxy",
        "outputId": "ea30c0a9-c656-4b03-cc9d-55c4cb212e28"
      },
      "outputs": [
        {
          "data": {
            "text/plain": [
              "1"
            ]
          },
          "execution_count": 35,
          "metadata": {},
          "output_type": "execute_result"
        }
      ],
      "source": [
        "preds_label[0]"
      ]
    },
    {
      "cell_type": "code",
      "execution_count": null,
      "metadata": {
        "colab": {
          "base_uri": "https://localhost:8080/"
        },
        "id": "RtjYVShdAUT3",
        "outputId": "d6f819e9-03e6-46d9-88b8-201dc39c1917"
      },
      "outputs": [
        {
          "data": {
            "text/plain": [
              "array([0., 1., 0.])"
            ]
          },
          "execution_count": 36,
          "metadata": {},
          "output_type": "execute_result"
        }
      ],
      "source": [
        "Y_test[0]"
      ]
    },
    {
      "cell_type": "code",
      "execution_count": null,
      "metadata": {
        "colab": {
          "base_uri": "https://localhost:8080/"
        },
        "id": "_esJ95dqBqz-",
        "outputId": "777446c8-8d3b-478f-9381-77fc8c00992e"
      },
      "outputs": [
        {
          "data": {
            "application/vnd.google.colaboratory.intrinsic+json": {
              "type": "string"
            },
            "text/plain": [
              "'tmnt cocreator kevin eastman and writer tom waltz guide readers through a groundbreaking new origin and into epic tales of courage loyalty and family as the turtles and their allies battle for survival against enemies old and new in the dangerous streets and sewers of new york city includes tmnt volumes 15 which collects the first 20 issues of the ongoing series********************************************************************************************************************************************************************************************************************************************'"
            ]
          },
          "execution_count": 37,
          "metadata": {},
          "output_type": "execute_result"
        }
      ],
      "source": [
        "blurb_test[0]"
      ]
    },
    {
      "cell_type": "code",
      "execution_count": null,
      "metadata": {
        "colab": {
          "base_uri": "https://localhost:8080/"
        },
        "id": "ut-MafhZBupN",
        "outputId": "75bddb83-5b56-4c33-90e8-128968d06137"
      },
      "outputs": [
        {
          "data": {
            "text/plain": [
              "array([0.4317169 , 0.3657573 , 0.20252581], dtype=float32)"
            ]
          },
          "execution_count": 38,
          "metadata": {},
          "output_type": "execute_result"
        }
      ],
      "source": [
        "preds[3]"
      ]
    },
    {
      "cell_type": "code",
      "execution_count": null,
      "metadata": {
        "colab": {
          "base_uri": "https://localhost:8080/"
        },
        "id": "uKj7LH2YCITg",
        "outputId": "76553386-b9bc-4466-d3df-0731bad361ea"
      },
      "outputs": [
        {
          "data": {
            "text/plain": [
              "array([1., 0., 0.])"
            ]
          },
          "execution_count": 39,
          "metadata": {},
          "output_type": "execute_result"
        }
      ],
      "source": [
        "Y_test[3]"
      ]
    },
    {
      "cell_type": "code",
      "execution_count": null,
      "metadata": {
        "colab": {
          "base_uri": "https://localhost:8080/"
        },
        "id": "JPnUXHROB_Ws",
        "outputId": "1184c18e-0141-41ef-ee1c-a1040ff2e9ec"
      },
      "outputs": [
        {
          "data": {
            "application/vnd.google.colaboratory.intrinsic+json": {
              "type": "string"
            },
            "text/plain": [
              "'an nyrb classics originalin 1869 at the age of twentyfour the precociously brilliant friedrich nietzsche was appointed to a professorship of classical philology at the university of basel he seemed marked for a successful and conventional academic career then the philosophy of schopenhauer and the music of wagner transformed his ambitions the genius of such thinkers and makersthe kind of genius that had emerged in ancient greecethis alone was the touchstone for true understanding but how was education to serve genius especially in a modern society marked more and more by an unholy alliance bet'"
            ]
          },
          "execution_count": 40,
          "metadata": {},
          "output_type": "execute_result"
        }
      ],
      "source": [
        "blurb_test[3]"
      ]
    },
    {
      "cell_type": "markdown",
      "metadata": {
        "id": "mLIjYfIWVltA"
      },
      "source": [
        "Genre's we might need to include: (because they aren't tagged as Fiction, nonFiction or Children's Books)\n",
        "- teen and young adult \n",
        "- Humor\n",
        "- Poetry\n",
        "- Classics"
      ]
    },
    {
      "cell_type": "code",
      "execution_count": null,
      "metadata": {
        "id": "v2v-vwLHWYTK"
      },
      "outputs": [],
      "source": [
        "import seaborn as sns"
      ]
    },
    {
      "cell_type": "code",
      "execution_count": null,
      "metadata": {
        "id": "wfMaaYHiEPea"
      },
      "outputs": [],
      "source": [
        "from sklearn.metrics import confusion_matrix\n",
        "conf = confusion_matrix(preds_label, np.argmax(Y_test,axis=1))"
      ]
    },
    {
      "cell_type": "code",
      "execution_count": null,
      "metadata": {
        "colab": {
          "base_uri": "https://localhost:8080/",
          "height": 71
        },
        "id": "5kDfLXWyWWlI",
        "outputId": "39979c75-71bc-43d9-ed94-801569f10755"
      },
      "outputs": [
        {
          "data": {
            "text/plain": [
              "<matplotlib.axes._subplots.AxesSubplot at 0x7f56c7308350>"
            ]
          },
          "execution_count": 43,
          "metadata": {},
          "output_type": "execute_result"
        },
        {
          "data": {
            "image/png": "[encoded data removed]",
            "text/plain": [
              "<Figure size 432x288 with 2 Axes>"
            ]
          },
          "metadata": {
            "needs_background": "light"
          },
          "output_type": "display_data"
        }
      ],
      "source": [
        "sns.heatmap(conf, annot=True, fmt=\"d\")"
      ]
    }
  ],
  "metadata": {
    "accelerator": "GPU",
    "colab": {
      "collapsed_sections": [],
      "name": "genre_classification.ipynb",
      "provenance": []
    },
    "interpreter": {
      "hash": "f71dee7dd0e3dce78094880e9e2a4fd18fb3f7ae156579c5bbe31a136213086f"
    },
    "kernelspec": {
      "display_name": "Python 3.8.8 64-bit ('base': conda)",
      "language": "python",
      "name": "python3"
    },
    "language_info": {
      "codemirror_mode": {
        "name": "ipython",
        "version": 3
      },
      "file_extension": ".py",
      "mimetype": "text/x-python",
      "name": "python",
      "nbconvert_exporter": "python",
      "pygments_lexer": "ipython3",
      "version": "3.8.8"
    },
    "orig_nbformat": 4
  },
  "nbformat": 4,
  "nbformat_minor": 0
}
