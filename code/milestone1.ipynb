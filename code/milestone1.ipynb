{
 "cells": [
  {
   "cell_type": "code",
   "execution_count": 99,
   "metadata": {},
   "outputs": [],
   "source": [
    "import numpy as np"
   ]
  },
  {
   "cell_type": "code",
   "execution_count": 100,
   "metadata": {},
   "outputs": [],
   "source": [
    "def clean(fname):\n",
    "\n",
    "    # Separate file into books with all metadata\n",
    "    startBook = \"<book\"\n",
    "    books = []\n",
    "    with open(fname) as openFile:\n",
    "        for line in openFile:\n",
    "            if line[:len(startBook)] == startBook:\n",
    "                books.append(line)\n",
    "            else:\n",
    "                books[-1] += line\n",
    "    openFile.close()\n",
    "\n",
    "    books = np.array(books)\n",
    "\n",
    "    # Collect synopses and all genre tags for each book\n",
    "    # X_data found here (synopses)\n",
    "    synopses = []\n",
    "    genres = []\n",
    "\n",
    "    startBody = \"<body>\"\n",
    "    endBody = \"</body>\"\n",
    "\n",
    "    startTopic = \"<topics>\"\n",
    "    endTopic = \"</topics>\"\n",
    "\n",
    "    for book in books:\n",
    "        start = book.index(startBody) + len(startBody)\n",
    "        end = book.index(endBody)\n",
    "        synopses.append(book[start:end])\n",
    "\n",
    "        start = book.index(startTopic) + len(startTopic)\n",
    "        end = book.index(endTopic)\n",
    "        genres.append(book[start:end])\n",
    "\n",
    "    X_data = np.array(synopses)\n",
    "\n",
    "\n",
    "    # Create matrix of genre tags to book\n",
    "    # Y_data found here\n",
    "    start = \">\"\n",
    "    end = \"</\"\n",
    "\n",
    "    Y_data = np.zeros((len(books), len(allGenres)))\n",
    "\n",
    "    for i in range(len(books[:200])):\n",
    "        entry = genres[i]\n",
    "        while entry.find(end) != -1:\n",
    "            s = entry.index(start) + 1\n",
    "            e = entry.index(end)\n",
    "            genreTag = entry[s:e]\n",
    "            Y_data[i][allGenres.index(genreTag)] = 1\n",
    "            entry = entry[e+5:]\n",
    "\n",
    "    return (X_data, Y_data)\n",
    "\n",
    "\n"
   ]
  },
  {
   "cell_type": "code",
   "execution_count": 101,
   "metadata": {},
   "outputs": [
    {
     "name": "stdout",
     "output_type": "stream",
     "text": [
      "['Biography & Memoir', 'Arts & Entertainment Biographies & Memoirs', 'Political Figure Biographies & Memoirs', 'Historical Figure Biographies & Memoirs']\n"
     ]
    }
   ],
   "source": [
    "# Create a list of all genre tags\n",
    "allGenres = []\n",
    "with open(\"../data/hierarchy.txt\") as hierarchyFile:\n",
    "    for line in hierarchyFile:\n",
    "        tab = line.find(\"\\t\")\n",
    "        g1 = line[:tab]\n",
    "        g2 = line[tab+1:len(line)-1]\n",
    "        if allGenres.count(g1) == 0:\n",
    "            allGenres.append(g1)\n",
    "        if allGenres.count(g2) == 0:\n",
    "            allGenres.append(g2)\n",
    "\n",
    "print(allGenres[:4])"
   ]
  },
  {
   "cell_type": "code",
   "execution_count": 102,
   "metadata": {},
   "outputs": [],
   "source": [
    "X_train, Y_train = clean(\"../data/BlurbGenreCollection_EN_train.txt\")"
   ]
  },
  {
   "cell_type": "code",
   "execution_count": 103,
   "metadata": {},
   "outputs": [
    {
     "name": "stdout",
     "output_type": "stream",
     "text": [
      "Monday’s Crosswords Do with EaseTuesday’s Crosswords Not a BreezeWednesday’s Crosswords Harder StillThursday’s Crosswords Take Real SkillFriday’s Crosswords — You’ve Come This Far…Saturday’s Crosswords — You’re a Star!For millions of people, the New York Times crossword puzzles are as essential to each day as the first cup of coffee in the morning. Now, for the first time ever, these premier puzzles are available in six clever installments. With each day of the week, the puzzles increase gradually in skill level; Monday’s the easiest, but Saturday’s sure to challenge! Push your mental muscles a little harder each day with America’s favorite sophisticated — and fun — pastime: the New York Times crossword puzzles!The legendary Eugene T. Maleska was crossword editor of The New York Times from 1977 to 1993.\n",
      "[0. 0. 0. 0. 0. 1. 0. 0. 0. 0. 0. 0. 0. 0. 0. 0. 0. 0. 0. 0. 0. 0. 0. 0.\n",
      " 0. 0. 0. 0. 1. 0. 0. 0. 0. 0. 0. 0. 0. 0. 0. 0. 0. 0. 0. 0. 0. 0. 0. 0.\n",
      " 0. 0. 0. 0. 0. 0. 0. 0. 0. 0. 0. 0. 0. 0. 0. 0. 0. 0. 0. 0. 0. 0. 0. 0.\n",
      " 0. 0. 0. 0. 0. 0. 0. 0. 0. 0. 0. 0. 0. 0. 0. 0. 0. 0. 0. 0. 0. 0. 0. 0.\n",
      " 0. 0. 0. 0. 0. 0. 0. 0. 0. 0. 0. 0. 0. 0. 0. 0. 0. 0. 0. 0. 0. 0. 0. 0.\n",
      " 0. 0. 0. 0. 0. 0. 0. 0. 0. 0. 0. 0. 0. 0. 0. 0. 0. 0. 0. 0. 0. 0. 0. 0.\n",
      " 0. 0. 0. 0. 0. 0. 0. 0.]\n",
      "(array([ 5, 28]),)\n",
      "\n",
      "<d0>Nonfiction</d0><d1>Games</d1>\n",
      "\n",
      "5\n",
      "28\n"
     ]
    }
   ],
   "source": [
    "print(X_train[0])\n",
    "print(Y_train[0])\n",
    "print(np.where(Y_train[0]==1))\n",
    "print(genres[0])\n",
    "print(allGenres.index(\"Nonfiction\"))\n",
    "print(allGenres.index(\"Games\"))"
   ]
  },
  {
   "cell_type": "code",
   "execution_count": 104,
   "metadata": {},
   "outputs": [
    {
     "name": "stdout",
     "output_type": "stream",
     "text": [
      "TMNT co-creator Kevin Eastman and writer Tom Waltz guide readers through a ground-breaking new origin and into epic tales of courage, loyalty and family as the Turtles and their allies battle for survival against enemies old and new in the dangerous streets and sewers of New York City. Includes TMNT volumes #1–5, which collects the first 20 issues of the ongoing series.\n",
      "[0. 0. 0. 0. 0. 0. 0. 0. 0. 0. 0. 0. 0. 0. 0. 0. 0. 0. 0. 0. 0. 0. 0. 0.\n",
      " 0. 0. 0. 0. 0. 0. 0. 0. 0. 0. 0. 0. 0. 0. 0. 0. 0. 0. 0. 0. 0. 0. 0. 0.\n",
      " 0. 0. 0. 0. 0. 0. 0. 0. 0. 0. 0. 0. 0. 0. 0. 0. 0. 0. 0. 0. 0. 0. 0. 0.\n",
      " 0. 0. 0. 0. 0. 0. 0. 0. 0. 0. 0. 0. 0. 0. 1. 0. 0. 0. 0. 0. 0. 1. 0. 0.\n",
      " 0. 0. 0. 0. 0. 0. 0. 0. 0. 0. 0. 0. 0. 0. 0. 0. 0. 0. 0. 0. 0. 0. 0. 0.\n",
      " 0. 0. 0. 0. 0. 0. 0. 0. 0. 0. 0. 0. 0. 0. 0. 0. 0. 0. 0. 0. 0. 0. 0. 0.\n",
      " 0. 0. 0. 0. 0. 0. 0. 0.]\n",
      "Fargo tangles with a terrible town tyrant!Skye Fargo has seen more than his fair share of hangings. So when he ambles into a midnight neck-stretching party on the California coastline, he knows something ain’t right at the end of the rope. When he saves the doomed man, all hell breaks loose, with even more people dead, and Fargo riding the rough side of a vicious town boss—the mannerly Del Manning.   There’s more going on than meets the Trailsman’s eagle eye, though, when some concerned “citizens” hire Fargo to help take down Manning by hook or crook. But no sooner does Fargo get involved than he’s accused of a cold-blooded murder, and must ride for his life with a big bounty on his head—and every local gun looking to blow it clean off…\n",
      "[0. 0. 0. 0. 0. 0. 0. 0. 0. 0. 0. 0. 0. 0. 0. 0. 0. 0. 0. 0. 0. 0. 0. 0.\n",
      " 0. 0. 0. 0. 0. 0. 0. 0. 0. 0. 0. 0. 0. 0. 0. 0. 0. 0. 0. 0. 0. 0. 0. 0.\n",
      " 0. 0. 0. 0. 0. 0. 0. 0. 0. 0. 0. 0. 0. 0. 0. 0. 0. 0. 0. 0. 0. 0. 0. 0.\n",
      " 0. 0. 0. 0. 0. 0. 0. 0. 0. 0. 0. 0. 0. 0. 1. 0. 0. 0. 0. 0. 0. 0. 0. 0.\n",
      " 0. 0. 0. 0. 0. 0. 0. 0. 0. 0. 0. 0. 0. 0. 0. 0. 0. 0. 0. 0. 0. 0. 1. 0.\n",
      " 0. 0. 0. 0. 0. 0. 0. 0. 0. 0. 0. 0. 0. 0. 0. 0. 0. 0. 0. 0. 0. 0. 0. 0.\n",
      " 0. 0. 0. 0. 0. 0. 0. 0.]\n"
     ]
    }
   ],
   "source": [
    "X_test, Y_test = clean(\"../data/BlurbGenreCollection_EN_test.txt\")\n",
    "X_valid, Y_valid = clean(\"../data/BlurbGenreCollection_EN_dev.txt\")\n",
    "\n",
    "print(X_test[0])\n",
    "print(Y_test[0])\n",
    "\n",
    "print(X_valid[0])\n",
    "print(Y_valid[0])"
   ]
  }
 ],
 "metadata": {
  "interpreter": {
   "hash": "f71dee7dd0e3dce78094880e9e2a4fd18fb3f7ae156579c5bbe31a136213086f"
  },
  "kernelspec": {
   "display_name": "Python 3.8.8 64-bit ('base': conda)",
   "name": "python3"
  },
  "language_info": {
   "codemirror_mode": {
    "name": "ipython",
    "version": 3
   },
   "file_extension": ".py",
   "mimetype": "text/x-python",
   "name": "python",
   "nbconvert_exporter": "python",
   "pygments_lexer": "ipython3",
   "version": "3.8.8"
  },
  "orig_nbformat": 4
 },
 "nbformat": 4,
 "nbformat_minor": 2
}
