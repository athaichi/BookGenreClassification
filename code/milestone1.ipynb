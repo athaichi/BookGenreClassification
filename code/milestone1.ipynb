{
 "cells": [
  {
   "cell_type": "code",
   "execution_count": 60,
   "metadata": {},
   "outputs": [],
   "source": [
    "import numpy as np"
   ]
  },
  {
   "cell_type": "code",
   "execution_count": 61,
   "metadata": {},
   "outputs": [
    {
     "name": "stdout",
     "output_type": "stream",
     "text": [
      "<book date=\"2018-08-18\" xml:lang=\"en\"> \n",
      "<title>The New York Times Daily Crossword Puzzles: Thursday, Volume 1</title>\n",
      "<body>Monday’s Crosswords Do with EaseTuesday’s Crosswords Not a BreezeWednesday’s Crosswords Harder StillThursday’s Crosswords Take Real SkillFriday’s Crosswords — You’ve Come This Far…Saturday’s Crosswords — You’re a Star!For millions of people, the New York Times crossword puzzles are as essential to each day as the first cup of coffee in the morning. Now, for the first time ever, these premier puzzles are available in six clever installments. With each day of the week, the puzzles increase gradually in skill level; Monday’s the easiest, but Saturday’s sure to challenge! Push your mental muscles a little harder each day with America’s favorite sophisticated — and fun — pastime: the New York Times crossword puzzles!The legendary Eugene T. Maleska was crossword editor of The New York Times from 1977 to 1993.</body>\n",
      "<copyright>(c) Penguin Random House</copyright>\n",
      "<metadata>\n",
      "<topics>\n",
      "<d0>Nonfiction</d0><d1>Games</d1>\n",
      "</topics>\n",
      "<author>New York Times</author>\n",
      "<published>Dec 28, 1996 </published>\n",
      "<page_num> 224 Pages</page_num>\n",
      "<isbn>9780804115827</isbn>\n",
      "<url>https://www.penguinrandomhouse.com/books/123094/the-new-york-times-daily-crossword-puzzles-thursday-volume-1-by-eugene-maleska/</url>\n",
      "</metadata>\n",
      "</book>\n",
      "\n"
     ]
    }
   ],
   "source": [
    "startBook = \"<book\"\n",
    "books = []\n",
    "with open(\"../data/BlurbGenreCollection_EN_train.txt\") as openFile:\n",
    "    for line in openFile:\n",
    "        if line[:len(startBook)] == startBook:\n",
    "            books.append(line)\n",
    "        else:\n",
    "            books[-1] += line\n",
    "    \n",
    "books = np.array(books)\n",
    "print(books[0])"
   ]
  },
  {
   "cell_type": "code",
   "execution_count": 62,
   "metadata": {},
   "outputs": [
    {
     "name": "stdout",
     "output_type": "stream",
     "text": [
      "Monday’s Crosswords Do with EaseTuesday’s Crosswords Not a BreezeWednesday’s Crosswords Harder StillThursday’s Crosswords Take Real SkillFriday’s Crosswords — You’ve Come This Far…Saturday’s Crosswords — You’re a Star!For millions of people, the New York Times crossword puzzles are as essential to each day as the first cup of coffee in the morning. Now, for the first time ever, these premier puzzles are available in six clever installments. With each day of the week, the puzzles increase gradually in skill level; Monday’s the easiest, but Saturday’s sure to challenge! Push your mental muscles a little harder each day with America’s favorite sophisticated — and fun — pastime: the New York Times crossword puzzles!The legendary Eugene T. Maleska was crossword editor of The New York Times from 1977 to 1993.\n",
      "\n",
      "<d0>Nonfiction</d0><d1>Games</d1>\n",
      "\n",
      "Two of literary comics modern masters present a pair of magical and disturbing stories of strange creatures who are not quite what they seem! In The Price, a mysterious feline engages in a nightly conflict with an unseen, vicious foe. The Daughter of Owls recounts an eerie tale of a beautiful orphan girl who was found clutching an owl pellet–and how those who would do her wrong would face bizarre, unforeseen consequences.Neil Gaiman (The Sandman, American Gods) delivers his award-winning magic and mystery, realized in Michael Zulli’s lavish paintings, newly re-designed in a beautiful new edition!\n",
      "\n",
      "<d0>Fiction</d0><d1>Graphic Novels & Manga</d1>\n",
      "\n"
     ]
    }
   ],
   "source": [
    "synopses = []\n",
    "genres = []\n",
    "\n",
    "startBody = \"<body>\"\n",
    "endBody = \"</body>\"\n",
    "\n",
    "startTopic = \"<topics>\"\n",
    "endTopic = \"</topics>\"\n",
    "\n",
    "for book in books:\n",
    "    start = book.index(startBody) + len(startBody)\n",
    "    end = book.index(endBody)\n",
    "    synopses.append(book[start:end])\n",
    "\n",
    "    start = book.index(startTopic) + len(startTopic)\n",
    "    end = book.index(endTopic)\n",
    "    genres.append(book[start:end])\n",
    "\n",
    "\n",
    "X_train = np.array(synopses)\n",
    "#genres = np.array(genres)\n",
    "\n",
    "print(synopses[0])\n",
    "print(genres[0])\n",
    "print(synopses[1])\n",
    "print(genres[1])"
   ]
  },
  {
   "cell_type": "code",
   "execution_count": 63,
   "metadata": {},
   "outputs": [
    {
     "name": "stdout",
     "output_type": "stream",
     "text": [
      "['Biography & Memoir', 'Arts & Entertainment Biographies & Memoirs', 'Political Figure Biographies & Memoirs', 'Historical Figure Biographies & Memoirs']\n"
     ]
    }
   ],
   "source": [
    "allGenres = []\n",
    "with open(\"../data/hierarchy.txt\") as hierarchyFile:\n",
    "    for line in hierarchyFile:\n",
    "        tab = line.find(\"\\t\")\n",
    "        g1 = line[:tab]\n",
    "        g2 = line[tab+1:len(line)-1]\n",
    "        if allGenres.count(g1) == 0:\n",
    "            allGenres.append(g1)\n",
    "        if allGenres.count(g2) == 0:\n",
    "            allGenres.append(g2)\n",
    "\n",
    "print(allGenres[:4])"
   ]
  },
  {
   "cell_type": "code",
   "execution_count": 88,
   "metadata": {},
   "outputs": [
    {
     "name": "stdout",
     "output_type": "stream",
     "text": [
      "(array([ 5, 28]),)\n",
      "\n",
      "<d0>Nonfiction</d0><d1>Games</d1>\n",
      "\n",
      "5\n",
      "28\n"
     ]
    }
   ],
   "source": [
    "start = \">\"\n",
    "end = \"</\"\n",
    "\n",
    "Y_train = np.zeros((len(books), len(allGenres)))\n",
    "\n",
    "for i in range(len(books[:200])):\n",
    "    entry = genres[i]\n",
    "    while entry.find(end) != -1:\n",
    "        s = entry.index(start) + 1\n",
    "        e = entry.index(end)\n",
    "        genreTag = entry[s:e]\n",
    "        Y_train[i][allGenres.index(genreTag)] = 1\n",
    "        entry = entry[e+5:]\n",
    "\n",
    "print(np.where(Y_train[0]==1))\n",
    "print(genres[0])\n",
    "print(allGenres.index(\"Nonfiction\"))\n",
    "print(allGenres.index(\"Games\"))\n",
    "\n",
    "        "
   ]
  }
 ],
 "metadata": {
  "interpreter": {
   "hash": "f71dee7dd0e3dce78094880e9e2a4fd18fb3f7ae156579c5bbe31a136213086f"
  },
  "kernelspec": {
   "display_name": "Python 3.8.8 64-bit ('base': conda)",
   "name": "python3"
  },
  "language_info": {
   "codemirror_mode": {
    "name": "ipython",
    "version": 3
   },
   "file_extension": ".py",
   "mimetype": "text/x-python",
   "name": "python",
   "nbconvert_exporter": "python",
   "pygments_lexer": "ipython3",
   "version": "3.8.8"
  },
  "orig_nbformat": 4
 },
 "nbformat": 4,
 "nbformat_minor": 2
}
