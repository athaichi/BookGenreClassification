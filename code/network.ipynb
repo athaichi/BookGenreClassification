{
 "cells": [
  {
   "cell_type": "code",
   "execution_count": 4,
   "metadata": {},
   "outputs": [],
   "source": [
    "import numpy as np\n",
    "import pandas as pd"
   ]
  },
  {
   "cell_type": "code",
   "execution_count": 12,
   "metadata": {},
   "outputs": [
    {
     "ename": "ValueError",
     "evalue": "cannot reshape array of size 92836352 into shape (58715,400,128)",
     "output_type": "error",
     "traceback": [
      "\u001b[0;31m---------------------------------------------------------------------------\u001b[0m",
      "\u001b[0;31mValueError\u001b[0m                                Traceback (most recent call last)",
      "\u001b[0;32m<ipython-input-12-a85c204457a4>\u001b[0m in \u001b[0;36m<module>\u001b[0;34m\u001b[0m\n\u001b[1;32m      1\u001b[0m \u001b[0;32mwith\u001b[0m \u001b[0mopen\u001b[0m\u001b[0;34m(\u001b[0m\u001b[0;34m'x_train.npy'\u001b[0m\u001b[0;34m,\u001b[0m \u001b[0;34m'rb'\u001b[0m\u001b[0;34m)\u001b[0m \u001b[0;32mas\u001b[0m \u001b[0mf\u001b[0m\u001b[0;34m:\u001b[0m\u001b[0;34m\u001b[0m\u001b[0;34m\u001b[0m\u001b[0m\n\u001b[0;32m----> 2\u001b[0;31m     \u001b[0mx_train\u001b[0m \u001b[0;34m=\u001b[0m \u001b[0mnp\u001b[0m\u001b[0;34m.\u001b[0m\u001b[0mload\u001b[0m\u001b[0;34m(\u001b[0m\u001b[0mf\u001b[0m\u001b[0;34m)\u001b[0m\u001b[0;34m\u001b[0m\u001b[0;34m\u001b[0m\u001b[0m\n\u001b[0m",
      "\u001b[0;32m~/opt/anaconda3/lib/python3.8/site-packages/numpy/lib/npyio.py\u001b[0m in \u001b[0;36mload\u001b[0;34m(file, mmap_mode, allow_pickle, fix_imports, encoding)\u001b[0m\n\u001b[1;32m    438\u001b[0m                 \u001b[0;32mreturn\u001b[0m \u001b[0mformat\u001b[0m\u001b[0;34m.\u001b[0m\u001b[0mopen_memmap\u001b[0m\u001b[0;34m(\u001b[0m\u001b[0mfile\u001b[0m\u001b[0;34m,\u001b[0m \u001b[0mmode\u001b[0m\u001b[0;34m=\u001b[0m\u001b[0mmmap_mode\u001b[0m\u001b[0;34m)\u001b[0m\u001b[0;34m\u001b[0m\u001b[0;34m\u001b[0m\u001b[0m\n\u001b[1;32m    439\u001b[0m             \u001b[0;32melse\u001b[0m\u001b[0;34m:\u001b[0m\u001b[0;34m\u001b[0m\u001b[0;34m\u001b[0m\u001b[0m\n\u001b[0;32m--> 440\u001b[0;31m                 return format.read_array(fid, allow_pickle=allow_pickle,\n\u001b[0m\u001b[1;32m    441\u001b[0m                                          pickle_kwargs=pickle_kwargs)\n\u001b[1;32m    442\u001b[0m         \u001b[0;32melse\u001b[0m\u001b[0;34m:\u001b[0m\u001b[0;34m\u001b[0m\u001b[0;34m\u001b[0m\u001b[0m\n",
      "\u001b[0;32m~/opt/anaconda3/lib/python3.8/site-packages/numpy/lib/format.py\u001b[0m in \u001b[0;36mread_array\u001b[0;34m(fp, allow_pickle, pickle_kwargs)\u001b[0m\n\u001b[1;32m    781\u001b[0m             \u001b[0marray\u001b[0m \u001b[0;34m=\u001b[0m \u001b[0marray\u001b[0m\u001b[0;34m.\u001b[0m\u001b[0mtranspose\u001b[0m\u001b[0;34m(\u001b[0m\u001b[0;34m)\u001b[0m\u001b[0;34m\u001b[0m\u001b[0;34m\u001b[0m\u001b[0m\n\u001b[1;32m    782\u001b[0m         \u001b[0;32melse\u001b[0m\u001b[0;34m:\u001b[0m\u001b[0;34m\u001b[0m\u001b[0;34m\u001b[0m\u001b[0m\n\u001b[0;32m--> 783\u001b[0;31m             \u001b[0marray\u001b[0m\u001b[0;34m.\u001b[0m\u001b[0mshape\u001b[0m \u001b[0;34m=\u001b[0m \u001b[0mshape\u001b[0m\u001b[0;34m\u001b[0m\u001b[0;34m\u001b[0m\u001b[0m\n\u001b[0m\u001b[1;32m    784\u001b[0m \u001b[0;34m\u001b[0m\u001b[0m\n\u001b[1;32m    785\u001b[0m     \u001b[0;32mreturn\u001b[0m \u001b[0marray\u001b[0m\u001b[0;34m\u001b[0m\u001b[0;34m\u001b[0m\u001b[0m\n",
      "\u001b[0;31mValueError\u001b[0m: cannot reshape array of size 92836352 into shape (58715,400,128)"
     ]
    }
   ],
   "source": [
    "with open('x_train.npy', 'rb') as f:\n",
    "    x_train = np.load(f)"
   ]
  },
  {
   "cell_type": "code",
   "execution_count": 11,
   "metadata": {},
   "outputs": [],
   "source": [
    "vectors = pd.read_csv(open('vectors.tsv'), \"\\t\", header=None)\n",
    "vector_len = len(vectors.columns)"
   ]
  },
  {
   "cell_type": "code",
   "execution_count": 6,
   "metadata": {},
   "outputs": [],
   "source": [
    "def vectorize_synopses(X_indices, filename):\n",
    "    \n",
    "    vectorized_synopses = []\n",
    "\n",
    "    for synopsis in X_indices:\n",
    "\n",
    "        v_synopsis = []\n",
    "\n",
    "        for word_index in synopsis:\n",
    "\n",
    "            vector_index = word_index-1 # metadata and index2word indices offset by one\n",
    "\n",
    "            if vector_index != -1:\n",
    "                v_synopsis.append(vectors.loc[vector_index]) # represent every word in synopsis with a vector\n",
    "            else:\n",
    "                v_synopsis.append([0]*vector_len) # zero padding vector\n",
    "        \n",
    "        vectorized_synopses.append(v_synopsis)\n",
    "    \n",
    "    with open(filename, 'wb') as f:\n",
    "        np.save(f, vectorized_synopses)"
   ]
  },
  {
   "cell_type": "code",
   "execution_count": 8,
   "metadata": {},
   "outputs": [],
   "source": [
    "vectorize_synopses([[1,2,3,4],[3,4,5,6],[9,8,7,6],[5,4,3,2]], 'test.npy')"
   ]
  },
  {
   "cell_type": "code",
   "execution_count": 9,
   "metadata": {},
   "outputs": [],
   "source": [
    "with open('test.npy', 'rb') as f:\n",
    "    a = np.load(f)"
   ]
  },
  {
   "cell_type": "code",
   "execution_count": 10,
   "metadata": {},
   "outputs": [
    {
     "data": {
      "text/plain": [
       "array([[[ 0.10447104,  0.12372384, -0.0256423 , ..., -0.03627987,\n",
       "         -0.01137989,  0.00358685],\n",
       "        [-0.00679224, -0.11083358,  0.04550086, ...,  0.25293455,\n",
       "         -0.08493339,  0.06525642],\n",
       "        [ 0.06675143,  0.2676058 ,  0.12622769, ...,  0.23677897,\n",
       "         -0.14330085, -0.1507192 ],\n",
       "        [-0.1633342 ,  0.36089784, -0.06314214, ...,  0.13277775,\n",
       "         -0.01441168,  0.08439097]],\n",
       "\n",
       "       [[ 0.06675143,  0.2676058 ,  0.12622769, ...,  0.23677897,\n",
       "         -0.14330085, -0.1507192 ],\n",
       "        [-0.1633342 ,  0.36089784, -0.06314214, ...,  0.13277775,\n",
       "         -0.01441168,  0.08439097],\n",
       "        [-0.02048907, -0.18836287,  0.03660543, ...,  0.25873813,\n",
       "         -0.0571033 ,  0.2729324 ],\n",
       "        [-0.2735818 ,  0.4795047 , -0.14154129, ..., -0.29830888,\n",
       "         -0.16594453, -0.2294545 ]],\n",
       "\n",
       "       [[ 0.17019564,  0.16507788, -0.26454255, ...,  0.07030519,\n",
       "         -0.02775818, -0.40673932],\n",
       "        [ 0.00435461,  0.16709064, -0.24487509, ...,  0.25422457,\n",
       "         -0.19803214, -0.01009127],\n",
       "        [-0.06074279, -0.1294906 , -0.23427026, ...,  0.01686193,\n",
       "          0.0386101 , -0.21957219],\n",
       "        [-0.2735818 ,  0.4795047 , -0.14154129, ..., -0.29830888,\n",
       "         -0.16594453, -0.2294545 ]],\n",
       "\n",
       "       [[-0.02048907, -0.18836287,  0.03660543, ...,  0.25873813,\n",
       "         -0.0571033 ,  0.2729324 ],\n",
       "        [-0.1633342 ,  0.36089784, -0.06314214, ...,  0.13277775,\n",
       "         -0.01441168,  0.08439097],\n",
       "        [ 0.06675143,  0.2676058 ,  0.12622769, ...,  0.23677897,\n",
       "         -0.14330085, -0.1507192 ],\n",
       "        [-0.00679224, -0.11083358,  0.04550086, ...,  0.25293455,\n",
       "         -0.08493339,  0.06525642]]])"
      ]
     },
     "execution_count": 10,
     "metadata": {},
     "output_type": "execute_result"
    }
   ],
   "source": [
    "a"
   ]
  }
 ],
 "metadata": {
  "interpreter": {
   "hash": "f71dee7dd0e3dce78094880e9e2a4fd18fb3f7ae156579c5bbe31a136213086f"
  },
  "kernelspec": {
   "display_name": "Python 3.8.8 64-bit ('base': conda)",
   "language": "python",
   "name": "python3"
  },
  "language_info": {
   "codemirror_mode": {
    "name": "ipython",
    "version": 3
   },
   "file_extension": ".py",
   "mimetype": "text/x-python",
   "name": "python",
   "nbconvert_exporter": "python",
   "pygments_lexer": "ipython3",
   "version": "3.8.8"
  },
  "orig_nbformat": 4
 },
 "nbformat": 4,
 "nbformat_minor": 2
}
